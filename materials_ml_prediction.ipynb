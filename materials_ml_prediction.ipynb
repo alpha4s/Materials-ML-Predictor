{
 "cells": [
  {
   "cell_type": "code",
   "execution_count": null,
   "metadata": {},
   "outputs": [],
   "source": [
    "import pandas as pd\n",
    "import matplotlib.pyplot as plt\n",
    "from matminer.datasets import load_dataset\n",
    "from matminer.featurizers.composition import ElementProperty\n",
    "from pymatgen.core.composition import Composition\n",
    "from sklearn.ensemble import RandomForestRegressor\n",
    "from sklearn.model_selection import train_test_split\n",
    "from sklearn.metrics import mean_squared_error, r2_score\n"
   ]
  },
  {
   "cell_type": "code",
   "execution_count": null,
   "metadata": {},
   "outputs": [],
   "source": [
    "df = load_dataset(\"elastic_tensor_2015\")\n",
    "ep = ElementProperty.from_preset(\"magpie\")\n",
    "df[\"composition\"] = df[\"formula\"].apply(Composition)\n",
    "df = ep.featurize_dataframe(df, \"composition\")\n",
    "df = df.dropna()\n"
   ]
  },
  {
   "cell_type": "code",
   "execution_count": null,
   "metadata": {},
   "outputs": [],
   "source": [
    "# Use \"K_VRH\" as the target property\n",
    "target = \"K_VRH\"\n",
    "\n",
    "# Drop all non-numeric columns\n",
    "X = df.select_dtypes(include='number').drop(columns=[target])\n",
    "y = df[target]\n",
    "\n",
    "# Train-test split\n",
    "from sklearn.model_selection import train_test_split\n",
    "X_train, X_test, y_train, y_test = train_test_split(X, y, test_size=0.2, random_state=42)\n"
   ]
  },
  {
   "cell_type": "code",
   "execution_count": null,
   "metadata": {},
   "outputs": [],
   "source": [
    "model = RandomForestRegressor()\n",
    "model.fit(X_train, y_train)\n",
    "preds = model.predict(X_test)\n"
   ]
  },
  {
   "cell_type": "code",
   "execution_count": null,
   "metadata": {},
   "outputs": [],
   "source": [
    "from sklearn.metrics import mean_squared_error, r2_score\n",
    "\n",
    "mse = mean_squared_error(y_test, preds)\n",
    "rmse = mse ** 0.5\n",
    "r2 = r2_score(y_test, preds)\n",
    "\n",
    "print(\"RMSE:\", rmse)\n",
    "print(\"R² Score:\", r2)\n"
   ]
  },
  {
   "cell_type": "code",
   "execution_count": null,
   "metadata": {},
   "outputs": [],
   "source": [
    "plt.scatter(y_test, preds)\n",
    "plt.xlabel(\"Actual\")\n",
    "plt.ylabel(\"Predicted\")\n",
    "plt.title(\"Bulk Modulus Prediction\")\n",
    "plt.grid(True)\n",
    "plt.show()\n"
   ]
  },
  {
   "cell_type": "code",
   "execution_count": null,
   "metadata": {},
   "outputs": [],
   "source": [
    "importances = model.feature_importances_\n",
    "feature_names = X.columns\n",
    "top_features = sorted(zip(importances, feature_names), reverse=True)[:5]\n",
    "for score, name in top_features:\n",
    "    print(f\"{name}: {score:.4f}\")\n"
   ]
  },
  {
   "cell_type": "code",
   "execution_count": null,
   "metadata": {},
   "outputs": [],
   "source": [
    "from sklearn.ensemble import GradientBoostingRegressor\n",
    "from sklearn.linear_model import Ridge\n",
    "\n",
    "models = {\n",
    "    \"Random Forest\": RandomForestRegressor(),\n",
    "    \"Gradient Boosting\": GradientBoostingRegressor(),\n",
    "    \"Ridge Regression\": Ridge()\n",
    "}\n",
    "\n",
    "results = {}\n",
    "for name, model in models.items():\n",
    "    model.fit(X_train, y_train)\n",
    "    preds = model.predict(X_test)\n",
    "    rmse = mean_squared_error(y_test, preds) ** 0.5\n",
    "    r2 = r2_score(y_test, preds)\n",
    "    results[name] = {\"RMSE\": rmse, \"R²\": r2}\n",
    "\n",
    "pd.DataFrame(results).T\n"
   ]
  },
  {
   "cell_type": "code",
   "execution_count": null,
   "metadata": {},
   "outputs": [],
   "source": [
    "%pip install seaborn\n",
    "\n",
    "import seaborn as sns\n",
    "\n",
    "# Use the Random Forest model from above\n",
    "rf_model = models[\"Random Forest\"]\n",
    "feat_imp = pd.Series(rf_model.feature_importances_, index=X.columns)\n",
    "top_feat = feat_imp.sort_values(ascending=False).head(10)\n",
    "\n",
    "sns.barplot(x=top_feat.values, y=top_feat.index)\n",
    "plt.title(\"Top 10 Important Features\")\n",
    "plt.xlabel(\"Importance\")\n",
    "plt.show()\n"
   ]
  },
  {
   "cell_type": "code",
   "execution_count": null,
   "metadata": {},
   "outputs": [],
   "source": [
    "plt.scatter(y_test, rf_model.predict(X_test), alpha=0.6)\n",
    "plt.plot([min(y_test), max(y_test)], [min(y_test), max(y_test)], color='red', linestyle='--')\n",
    "plt.xlabel(\"Actual Bulk Modulus\")\n",
    "plt.ylabel(\"Predicted Bulk Modulus\")\n",
    "plt.title(\"Random Forest: Actual vs Predicted\")\n",
    "plt.grid(True)\n",
    "plt.show()\n"
   ]
  }
 ],
 "metadata": {
  "kernelspec": {
   "display_name": "Python 3",
   "language": "python",
   "name": "python3"
  },
  "language_info": {
   "codemirror_mode": {
    "name": "ipython",
    "version": 3
   },
   "file_extension": ".py",
   "mimetype": "text/x-python",
   "name": "python",
   "nbconvert_exporter": "python",
   "pygments_lexer": "ipython3",
   "version": "3.13.3"
  }
 },
 "nbformat": 4,
 "nbformat_minor": 2
}
